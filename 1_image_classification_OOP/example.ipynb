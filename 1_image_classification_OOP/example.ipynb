{
 "cells": [
  {
   "cell_type": "code",
   "outputs": [],
   "source": [
    "import warnings\n",
    "\n",
    "warnings.filterwarnings('ignore')"
   ],
   "metadata": {
    "collapsed": false,
    "ExecuteTime": {
     "end_time": "2025-03-03T12:50:30.837633900Z",
     "start_time": "2025-03-03T12:50:30.818778200Z"
    }
   },
   "id": "33b97513445a3df5",
   "execution_count": 14
  },
  {
   "cell_type": "code",
   "outputs": [],
   "source": [
    "import os\n",
    "import numpy as np\n",
    "import matplotlib.pyplot as plt\n",
    "import cv2\n",
    "from tensorflow.keras.datasets import mnist\n",
    "\n",
    "from models.MnistClassifier import MnistClassifier"
   ],
   "metadata": {
    "collapsed": false,
    "ExecuteTime": {
     "end_time": "2025-03-03T12:56:29.949763100Z",
     "start_time": "2025-03-03T12:56:28.564701800Z"
    }
   },
   "id": "8f4c616bef2e53eb",
   "execution_count": 27
  },
  {
   "cell_type": "markdown",
   "source": [
    "Check if models have been trained"
   ],
   "metadata": {
    "collapsed": false
   },
   "id": "8840d9ceb79ff97c"
  },
  {
   "cell_type": "code",
   "outputs": [
    {
     "name": "stdout",
     "output_type": "stream",
     "text": [
      "There are prepared trained models in D:\\Projects\\Winstars.AI_test_task\\1_image_classification_OOP\\trained_models.\n",
      "You can continue example\n"
     ]
    }
   ],
   "source": [
    "trained_model_dir = os.path.join(os.getcwd(), \"trained_models\")\n",
    "if os.path.exists(trained_model_dir) and os.path.isdir(trained_model_dir):\n",
    "    files_in_directory = os.listdir(trained_model_dir)\n",
    "    if files_in_directory:\n",
    "        print(f\"There are prepared trained models in {trained_model_dir}.\\nYou can continue example\")\n",
    "    else:\n",
    "        print(f\"Please run train.py to train and save models\")\n",
    "else:\n",
    "    print(f\"Please run train.py to train and save models\")\n"
   ],
   "metadata": {
    "collapsed": false,
    "ExecuteTime": {
     "end_time": "2025-03-03T12:18:19.429649100Z",
     "start_time": "2025-03-03T12:18:19.377263500Z"
    }
   },
   "id": "98f49dec2e2e34d1",
   "execution_count": 4
  },
  {
   "cell_type": "markdown",
   "source": [
    "1. Load MNIST dataset, which contains handwritten digits and their corresponding labels.\n",
    "2. Reshape the data for training models, flattening the 28x28 images into 784-dimensional vectors.\n",
    "3. Normalize the pixel values to a range of 0-1 by dividing by 255.0"
   ],
   "metadata": {
    "collapsed": false
   },
   "id": "3b9d073a593578a4"
  },
  {
   "cell_type": "code",
   "outputs": [],
   "source": [
    "(X_train, y_train), (X_test, y_test) = mnist.load_data()\n",
    "X_train = X_train.reshape((-1, 28*28)).astype('float32')/255\n",
    "X_test = X_test.reshape((-1, 28*28)).astype('float32')/255"
   ],
   "metadata": {
    "collapsed": false,
    "ExecuteTime": {
     "end_time": "2025-03-03T12:18:22.993739300Z",
     "start_time": "2025-03-03T12:18:22.616343200Z"
    }
   },
   "id": "37a482eba7a290eb",
   "execution_count": 5
  },
  {
   "cell_type": "markdown",
   "source": [
    "Load the pre-trained Random Forest model from file and evaluate its performance on test data"
   ],
   "metadata": {
    "collapsed": false
   },
   "id": "ddab36dde7b84fbb"
  },
  {
   "cell_type": "code",
   "outputs": [
    {
     "name": "stdout",
     "output_type": "stream",
     "text": [
      "Model loaded from D:\\Projects\\Winstars.AI_test_task\\1_image_classification_OOP\\trained_models\\mnist_rf_model.pkl\n",
      "0.9702\n"
     ]
    }
   ],
   "source": [
    "rf_model = MnistClassifier('rf', model_path=os.path.join(trained_model_dir, \"mnist_rf_model.pkl\"))\n",
    "print(rf_model.score(X_test, y_test))"
   ],
   "metadata": {
    "collapsed": false,
    "ExecuteTime": {
     "end_time": "2025-03-03T12:52:36.375916200Z",
     "start_time": "2025-03-03T12:52:35.294907400Z"
    }
   },
   "id": "dc72d525b3e3b324",
   "execution_count": 18
  },
  {
   "cell_type": "markdown",
   "source": [
    "Load the pre-trained Feedforward Neural Network model from file and evaluate its performance on test data"
   ],
   "metadata": {
    "collapsed": false
   },
   "id": "7933df79f2db8280"
  },
  {
   "cell_type": "code",
   "outputs": [
    {
     "name": "stderr",
     "output_type": "stream",
     "text": [
      "WARNING:absl:Compiled the loaded model, but the compiled metrics have yet to be built. `model.compile_metrics` will be empty until you train or evaluate the model.\n"
     ]
    },
    {
     "name": "stdout",
     "output_type": "stream",
     "text": [
      "\u001B[1m313/313\u001B[0m \u001B[32m━━━━━━━━━━━━━━━━━━━━\u001B[0m\u001B[37m\u001B[0m \u001B[1m1s\u001B[0m 2ms/step - accuracy: 0.9766 - loss: 0.0922\n",
      "0.9801999926567078\n"
     ]
    }
   ],
   "source": [
    "nn_model = MnistClassifier('nn', model_path=os.path.join(trained_model_dir, \"mnist_nn_model.h5\"))\n",
    "print(nn_model.score(X_test, y_test))"
   ],
   "metadata": {
    "collapsed": false,
    "ExecuteTime": {
     "end_time": "2025-03-03T12:50:35.804662400Z",
     "start_time": "2025-03-03T12:50:34.871640700Z"
    }
   },
   "id": "70b1f9c20445191a",
   "execution_count": 15
  },
  {
   "cell_type": "markdown",
   "source": [
    "Load the pre-trained Convolutional Neural Network model from file and evaluate its performance on test data"
   ],
   "metadata": {
    "collapsed": false
   },
   "id": "d5e530bfdf091209"
  },
  {
   "cell_type": "code",
   "outputs": [
    {
     "name": "stderr",
     "output_type": "stream",
     "text": [
      "WARNING:absl:Compiled the loaded model, but the compiled metrics have yet to be built. `model.compile_metrics` will be empty until you train or evaluate the model.\n"
     ]
    },
    {
     "name": "stdout",
     "output_type": "stream",
     "text": [
      "\u001B[1m313/313\u001B[0m \u001B[32m━━━━━━━━━━━━━━━━━━━━\u001B[0m\u001B[37m\u001B[0m \u001B[1m2s\u001B[0m 5ms/step - accuracy: 0.9903 - loss: 0.0319\n",
      "0.9926000237464905\n"
     ]
    }
   ],
   "source": [
    "cnn_model = MnistClassifier('cnn', model_path=os.path.join(trained_model_dir, \"mnist_cnn_model.h5\"))\n",
    "print(cnn_model.score(X_test, y_test))"
   ],
   "metadata": {
    "collapsed": false,
    "ExecuteTime": {
     "end_time": "2025-03-03T12:50:40.305112600Z",
     "start_time": "2025-03-03T12:50:38.224205600Z"
    }
   },
   "id": "fa2145c6b9f181a3",
   "execution_count": 16
  },
  {
   "cell_type": "markdown",
   "source": [
    "Create class predictions of all three models."
   ],
   "metadata": {
    "collapsed": false
   },
   "id": "5788b82213295f40"
  },
  {
   "cell_type": "code",
   "outputs": [
    {
     "name": "stdout",
     "output_type": "stream",
     "text": [
      "\u001B[1m313/313\u001B[0m \u001B[32m━━━━━━━━━━━━━━━━━━━━\u001B[0m\u001B[37m\u001B[0m \u001B[1m1s\u001B[0m 3ms/step\n",
      "\u001B[1m313/313\u001B[0m \u001B[32m━━━━━━━━━━━━━━━━━━━━\u001B[0m\u001B[37m\u001B[0m \u001B[1m3s\u001B[0m 8ms/step\n"
     ]
    }
   ],
   "source": [
    "rf_predictions = rf_model.predict(X_test)\n",
    "nn_predictions = np.argmax(nn_model.predict(X_test), axis=1)\n",
    "cnn_predictions = np.argmax(cnn_model.predict(X_test), axis=1)"
   ],
   "metadata": {
    "collapsed": false,
    "ExecuteTime": {
     "end_time": "2025-03-03T13:01:45.896555100Z",
     "start_time": "2025-03-03T13:01:40.287687900Z"
    }
   },
   "id": "5276cbe8edb59db3",
   "execution_count": 31
  },
  {
   "cell_type": "markdown",
   "source": [
    "Visualize test images and corresponding class predictions of Random Forest, Feedforward NN and CNN"
   ],
   "metadata": {
    "collapsed": false
   },
   "id": "95b544c62d314da3"
  },
  {
   "cell_type": "code",
   "outputs": [
    {
     "data": {
      "text/plain": "<Figure size 1000x600 with 10 Axes>",
      "image/png": "[encoded data removed]"
     },
     "metadata": {},
     "output_type": "display_data"
    }
   ],
   "source": [
    "plt.figure(figsize=(10,6))\n",
    "for i in range(0, 10):\n",
    "    plt.subplot(2,5,i+1)\n",
    "    plt.xticks([])\n",
    "    plt.yticks([])\n",
    "    plt.grid(False)\n",
    "    img = X_test[i]\n",
    "    img = img.reshape((28, 28))\n",
    "    plt.imshow(img, cmap=plt.cm.binary)\n",
    "\n",
    "    plt.xlabel(f\"RF:{rf_predictions[i]}\\nNN:{nn_predictions[i]}\\nCNN:{cnn_predictions[i]}\")"
   ],
   "metadata": {
    "collapsed": false,
    "ExecuteTime": {
     "end_time": "2025-03-03T13:09:22.785591400Z",
     "start_time": "2025-03-03T13:09:22.512655Z"
    }
   },
   "id": "cd1050af153d0328",
   "execution_count": 38
  },
  {
   "cell_type": "code",
   "outputs": [],
   "source": [],
   "metadata": {
    "collapsed": false
   },
   "id": "e88a7c350f417739"
  }
 ],
 "metadata": {
  "kernelspec": {
   "display_name": "Python 3",
   "language": "python",
   "name": "python3"
  },
  "language_info": {
   "codemirror_mode": {
    "name": "ipython",
    "version": 2
   },
   "file_extension": ".py",
   "mimetype": "text/x-python",
   "name": "python",
   "nbconvert_exporter": "python",
   "pygments_lexer": "ipython2",
   "version": "2.7.6"
  }
 },
 "nbformat": 4,
 "nbformat_minor": 5
}
